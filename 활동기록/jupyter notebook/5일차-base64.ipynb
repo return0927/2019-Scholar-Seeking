{
 "cells": [
  {
   "cell_type": "code",
   "execution_count": 1,
   "metadata": {},
   "outputs": [],
   "source": [
    "import base64"
   ]
  },
  {
   "cell_type": "code",
   "execution_count": 2,
   "metadata": {},
   "outputs": [],
   "source": [
    "Before = \"2019학년도 3학년 1학기 진로주제탐구프로젝트\"\n",
    "Base64Encode = base64.b64encode(Before.encode(\"UTF-8\"))"
   ]
  },
  {
   "cell_type": "code",
   "execution_count": 3,
   "metadata": {
    "scrolled": true
   },
   "outputs": [
    {
     "name": "stdout",
     "output_type": "stream",
     "text": [
      "2019학년도 3학년 1학기 진로주제탐구프로젝트 b'MjAxOe2VmeuFhOuPhCAz7ZWZ64WEIDHtlZnquLAg7KeE66Gc7KO87KCc7YOQ6rWs7ZSE66Gc7KCd7Yq4'\n"
     ]
    }
   ],
   "source": [
    "print(Before, Base64Encode)"
   ]
  },
  {
   "cell_type": "code",
   "execution_count": 4,
   "metadata": {},
   "outputs": [],
   "source": [
    "Base64Decode = base64.b64decode(Base64Encode)"
   ]
  },
  {
   "cell_type": "code",
   "execution_count": 5,
   "metadata": {
    "scrolled": false
   },
   "outputs": [
    {
     "name": "stdout",
     "output_type": "stream",
     "text": [
      "2019학년도 3학년 1학기 진로주제탐구프로젝트\n"
     ]
    }
   ],
   "source": [
    "print(Base64Decode.decode(\"UTF-8\"))"
   ]
  }
 ],
 "metadata": {
  "kernelspec": {
   "display_name": "Python 3",
   "language": "python",
   "name": "python3"
  },
  "language_info": {
   "codemirror_mode": {
    "name": "ipython",
    "version": 3
   },
   "file_extension": ".py",
   "mimetype": "text/x-python",
   "name": "python",
   "nbconvert_exporter": "python",
   "pygments_lexer": "ipython3",
   "version": "3.6.8"
  }
 },
 "nbformat": 4,
 "nbformat_minor": 2
}
