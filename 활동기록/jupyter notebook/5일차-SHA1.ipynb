{
 "cells": [
  {
   "cell_type": "code",
   "execution_count": 1,
   "metadata": {},
   "outputs": [],
   "source": [
    "import hashlib"
   ]
  },
  {
   "cell_type": "code",
   "execution_count": 2,
   "metadata": {},
   "outputs": [],
   "source": [
    "Before = \"2019학년도 3학년 1학기 진로주제탐구프로젝트\""
   ]
  },
  {
   "cell_type": "code",
   "execution_count": 3,
   "metadata": {},
   "outputs": [
    {
     "name": "stdout",
     "output_type": "stream",
     "text": [
      "<sha1 HASH object @ 0x0000015ADBA20C88>\n"
     ]
    }
   ],
   "source": [
    "SHA1Encode = hashlib.sha1(Before.encode(\"UTF-8\"))\n",
    "print(SHA1Encode)"
   ]
  },
  {
   "cell_type": "code",
   "execution_count": 4,
   "metadata": {},
   "outputs": [
    {
     "name": "stdout",
     "output_type": "stream",
     "text": [
      "ed6413e4f00572014d5517f58662aa4eba869d05\n"
     ]
    }
   ],
   "source": [
    "SHA1Hex = SHA1Encode.hexdigest()\n",
    "print(SHA1Hex)"
   ]
  }
 ],
 "metadata": {
  "kernelspec": {
   "display_name": "Python 3",
   "language": "python",
   "name": "python3"
  },
  "language_info": {
   "codemirror_mode": {
    "name": "ipython",
    "version": 3
   },
   "file_extension": ".py",
   "mimetype": "text/x-python",
   "name": "python",
   "nbconvert_exporter": "python",
   "pygments_lexer": "ipython3",
   "version": "3.6.8"
  }
 },
 "nbformat": 4,
 "nbformat_minor": 2
}
