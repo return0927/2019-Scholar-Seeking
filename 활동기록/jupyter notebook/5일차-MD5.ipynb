{
 "cells": [
  {
   "cell_type": "code",
   "execution_count": 1,
   "metadata": {},
   "outputs": [],
   "source": [
    "import hashlib"
   ]
  },
  {
   "cell_type": "code",
   "execution_count": 2,
   "metadata": {},
   "outputs": [],
   "source": [
    "Before = \"2019학년도 3학년 1학기 진로주제탐구프로젝트\""
   ]
  },
  {
   "cell_type": "code",
   "execution_count": 3,
   "metadata": {},
   "outputs": [
    {
     "name": "stdout",
     "output_type": "stream",
     "text": [
      "<md5 HASH object @ 0x000002011DD46DC8>\n"
     ]
    }
   ],
   "source": [
    "MD5Encode = hashlib.md5(Before.encode(\"UTF-8\"))\n",
    "print(MD5Encode)"
   ]
  },
  {
   "cell_type": "code",
   "execution_count": 4,
   "metadata": {},
   "outputs": [
    {
     "name": "stdout",
     "output_type": "stream",
     "text": [
      "57fffcb7112e0eac3c2282a4bdd2f68e\n"
     ]
    }
   ],
   "source": [
    "MD5Hash = MD5Encode.hexdigest()\n",
    "print(MD5Hash)"
   ]
  }
 ],
 "metadata": {
  "kernelspec": {
   "display_name": "Python 3",
   "language": "python",
   "name": "python3"
  },
  "language_info": {
   "codemirror_mode": {
    "name": "ipython",
    "version": 3
   },
   "file_extension": ".py",
   "mimetype": "text/x-python",
   "name": "python",
   "nbconvert_exporter": "python",
   "pygments_lexer": "ipython3",
   "version": "3.6.8"
  }
 },
 "nbformat": 4,
 "nbformat_minor": 2
}
